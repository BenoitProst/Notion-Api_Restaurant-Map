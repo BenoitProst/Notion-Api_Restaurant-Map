{
 "cells": [
  {
   "cell_type": "code",
   "execution_count": 116,
   "id": "339909d2",
   "metadata": {},
   "outputs": [],
   "source": [
    "\n",
    "import requests, json"
   ]
  },
  {
   "cell_type": "markdown",
   "id": "bef6f5a9",
   "metadata": {},
   "source": [
    "# Anonymisation param"
   ]
  },
  {
   "cell_type": "code",
   "execution_count": 2,
   "id": "6db6c951",
   "metadata": {},
   "outputs": [],
   "source": [
    "\n",
    "# Opening JSON file\n",
    "f = open(\"Param/param.json\")\n",
    "\n",
    "# returns JSON object as \n",
    "# a dictionary\n",
    "param = json.load(f)\n"
   ]
  },
  {
   "cell_type": "code",
   "execution_count": 4,
   "id": "d046d416",
   "metadata": {},
   "outputs": [],
   "source": [
    "# Initialisation\n",
    "\n",
    "token = param['Notion_API']['token']\n",
    "databaseID = param['Notion_API']['databaseID']\n",
    "headers = {\n",
    "    \"Authorization\": \"Bearer \" + token,\n",
    "    \"Content-Type\": \"application/json\",\n",
    "    \"Notion-Version\": \"2022-02-22\"\n",
    "}"
   ]
  },
  {
   "cell_type": "markdown",
   "id": "1b37aadc",
   "metadata": {},
   "source": [
    "# Récupération de la base Notion des restaurants"
   ]
  },
  {
   "cell_type": "code",
   "execution_count": 21,
   "id": "780bf3af",
   "metadata": {},
   "outputs": [
    {
     "name": "stdout",
     "output_type": "stream",
     "text": [
      "200\n"
     ]
    }
   ],
   "source": [
    "\n",
    "readUrl = f\"https://api.notion.com/v1/databases/{databaseID}/query\"\n",
    "res = requests.request(\"POST\", readUrl, headers=headers)\n",
    "data = res.json()\n",
    "print(res.status_code)\n",
    "#print(res.text)\n",
    "\n",
    "json_object = json.dumps(data, indent=4)\n",
    "\n",
    "# Writing to sample.json\n",
    "with open(\"data/notion_list_restaurants.json\", \"w\") as outfile:\n",
    "    outfile.write(json_object)"
   ]
  },
  {
   "cell_type": "markdown",
   "id": "88ebf8e1",
   "metadata": {},
   "source": [
    "# Retraitement du Json"
   ]
  },
  {
   "cell_type": "code",
   "execution_count": 112,
   "id": "3be89808",
   "metadata": {},
   "outputs": [],
   "source": [
    "# Notion color HEX code\n",
    "\n",
    "# Opening JSON file\n",
    "f = open(\"Param/notioncolor.json\")\n",
    "\n",
    "# returns JSON object as \n",
    "# a dictionary\n",
    "NotionColorBG = json.load(f)"
   ]
  },
  {
   "cell_type": "code",
   "execution_count": 114,
   "id": "3ffe6eee",
   "metadata": {},
   "outputs": [],
   "source": [
    "Restaurant_list = []\n",
    "\n",
    "for i in range(len(data['results'])):\n",
    "\n",
    "    RestaurantInformation = {}\n",
    "\n",
    "    RestaurantInformation['properties'] = {}\n",
    "\n",
    "    RestaurantInformation['properties'][\"id\"] = data['results'][i]['id']\n",
    "\n",
    "    RestaurantInformation['properties'][\"Name\"] = data['results'][i]['properties']['Name']['title'][0]['plain_text']\n",
    "\n",
    "    RestaurantInformation['properties'][\"Adresse\"] = data['results'][i]['properties']['Adresse']['rich_text'][0]['plain_text']\n",
    "\n",
    "    RestaurantInformation['properties'][\"Testé\"] = data['results'][i]['properties']['A tester / testé']['status']\n",
    "    RestaurantInformation['properties']['Testé'] = NotionColorBG[RestaurantInformation['properties']['Testé']['color']]\n",
    "\n",
    "    RestaurantInformation['properties'][\"Lieu\"] = data['results'][i]['properties']['Lieu']['select']\n",
    "    RestaurantInformation['properties'][\"Lieu\"]['ColorHex'] = NotionColorBG[RestaurantInformation['properties']['Lieu']['color']]\n",
    "\n",
    "    RestaurantInformation['properties'][\"Style\"] = data['results'][i]['properties']['Style']['multi_select']\n",
    "    for l in range(len(RestaurantInformation['properties'][\"Style\"])):\n",
    "        RestaurantInformation['properties'][\"Style\"][l]['ColorHex'] = NotionColorBG[RestaurantInformation['properties'][\"Style\"][l]['color']]\n",
    "\n",
    "    RestaurantInformation['geometry'] = {\"type\": \"Point\"}\n",
    "    RestaurantInformation['geometry']['coordinates'] =[data['results'][i]['properties']['Lon']['number'],data['results'][0]['properties']['Lat']['number']]\n",
    "\n",
    "    Restaurant_list.append(RestaurantInformation)"
   ]
  },
  {
   "cell_type": "code",
   "execution_count": null,
   "id": "fe6e8c97",
   "metadata": {},
   "outputs": [],
   "source": []
  }
 ],
 "metadata": {
  "kernelspec": {
   "display_name": "Python 3 (ipykernel)",
   "language": "python",
   "name": "python3"
  },
  "language_info": {
   "codemirror_mode": {
    "name": "ipython",
    "version": 3
   },
   "file_extension": ".py",
   "mimetype": "text/x-python",
   "name": "python",
   "nbconvert_exporter": "python",
   "pygments_lexer": "ipython3",
   "version": "3.11.3"
  }
 },
 "nbformat": 4,
 "nbformat_minor": 5
}
